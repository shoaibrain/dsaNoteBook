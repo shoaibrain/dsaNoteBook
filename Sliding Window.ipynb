{
 "cells": [
  {
   "cell_type": "markdown",
   "id": "74e0a501",
   "metadata": {},
   "source": [
    "## Recogizing sliding window problem in wild\n",
    "\n",
    "1. typically these problems are well suited for iterable items\n",
    "2. contigious sequence of elements. Its a subarray/subset that occurs one after the other\n",
    "3. good with strings, array with integers, chars, linked-list\n",
    "\n",
    "trying to minimum/maximum of something. Somethig is contained in something....\n",
    "may we need to calculate something in those sequence, search for some desirable calculation\n",
    "in those sequences \n",
    "\n"
   ]
  },
  {
   "cell_type": "markdown",
   "id": "eedb21fc",
   "metadata": {},
   "source": [
    "## Question Variants\n",
    "1. Fixed length. Window size is fixed\n",
    "    a. maxSum subarray of size k\n",
    "2. Dynamic variant. Windoe size can grow/shrink \n",
    "    a. smallest sum >= to some value S\n",
    "    \n",
    "3. Dynamic variant with Auxillary data structure\n",
    "   eg. find longest substring with no more than k distinct characters\n",
    "       string permutations, \n",
    "       does that second string exist as a permutation of parent string\n",
    "       \n",
    "## Common among different variants\n",
    "1. Everything is grouped sequencally\n",
    "2. everything specifies to some sequential criteria like longest/smallest/contains... etc \n"
   ]
  },
  {
   "cell_type": "code",
   "execution_count": null,
   "id": "605fbb06",
   "metadata": {},
   "outputs": [],
   "source": []
  }
 ],
 "metadata": {
  "kernelspec": {
   "display_name": "Python 3 (ipykernel)",
   "language": "python",
   "name": "python3"
  },
  "language_info": {
   "codemirror_mode": {
    "name": "ipython",
    "version": 3
   },
   "file_extension": ".py",
   "mimetype": "text/x-python",
   "name": "python",
   "nbconvert_exporter": "python",
   "pygments_lexer": "ipython3",
   "version": "3.9.15"
  }
 },
 "nbformat": 4,
 "nbformat_minor": 5
}
