{
 "cells": [
  {
   "cell_type": "markdown",
   "id": "b04df399",
   "metadata": {},
   "source": [
    "# Heaps\n",
    "1. A specialized Binary tree\n",
    "2. A complete Binary Tree, the keys must satisfy the heap property\n",
    "### Heap can be implemented as an array. \n",
    "The children of node at index i are at indices 2i + 2\n",
    "\n",
    "\n",
    "MaxHeap supports O(logn) insertions, O(1) lookup time, for max element and O(logn) for deletion of the max element\n",
    "\n",
    "Note: Heap is sometime referred as priority queue bc it behaves like a queue, With one difference.\n",
    "Each element has priority associated with it and the deletion removes the element with highest priority.\n",
    "\n",
    "MinHeap is complete symmetric of MaxHeap and supports O(1) lookup time for minimum element\n",
    "\n",
    "\n",
    "## Top K element pattern\n",
    "The top K elements pattern is a technique that aims to return a given number of the most frequent/largest/smallest elements in a given set.\n",
    "\n",
    "***With the feature of max and min heap, we can always get the min or max of some struct in linear time***\n"
   ]
  },
  {
   "cell_type": "markdown",
   "id": "f6657b12",
   "metadata": {},
   "source": [
    "## Problems\n",
    "\n",
    "\n",
    "#### Kth Largest Element in an Array\n",
    "Algorithm:\n",
    "```\n",
    "def foo:\n",
    "    1. create a max heap\n",
    "    2. add first k element into the heap\n",
    "    3. After that, add next element in the heap only if its greater than top element in maxHeap\n",
    "    4. return top element from maxHeap\n",
    "```\n",
    "\n",
    "#### topKFrequent\n"
   ]
  },
  {
   "cell_type": "code",
   "execution_count": null,
   "id": "8db7f685",
   "metadata": {},
   "outputs": [],
   "source": []
  }
 ],
 "metadata": {
  "kernelspec": {
   "display_name": "Python 3 (ipykernel)",
   "language": "python",
   "name": "python3"
  },
  "language_info": {
   "codemirror_mode": {
    "name": "ipython",
    "version": 3
   },
   "file_extension": ".py",
   "mimetype": "text/x-python",
   "name": "python",
   "nbconvert_exporter": "python",
   "pygments_lexer": "ipython3",
   "version": "3.9.15"
  }
 },
 "nbformat": 4,
 "nbformat_minor": 5
}
