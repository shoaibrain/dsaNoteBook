{
 "cells": [
  {
   "attachments": {},
   "cell_type": "markdown",
   "id": "aa8e04c4",
   "metadata": {},
   "source": [
    "# Binary Tree\n",
    "Binary Tree is a Tree data structure where each node has at most\n",
    "two children, which are referred as to the lest child and right child\n",
    "\n"
   ]
  },
  {
   "cell_type": "code",
   "execution_count": 80,
   "id": "abd32fbf",
   "metadata": {},
   "outputs": [],
   "source": [
    "class Node(object):\n",
    "    def __init__(self, data):\n",
    "        self.val = data\n",
    "        self.left = None\n",
    "        self.right = None"
   ]
  },
  {
   "cell_type": "code",
   "execution_count": 81,
   "id": "5e0275c5",
   "metadata": {},
   "outputs": [],
   "source": [
    "class BinaryTree(object):\n",
    "    def __init__(self,root):\n",
    "        self.root = Node(root)\n",
    "    \n",
    "    def printTree(self, traversalType):\n",
    "        if traversalType == \"preorder\":\n",
    "            return self.preorderPrint(self.root,\"\")\n",
    "        elif traversalType == \"inorder\":\n",
    "            return self.inorderPrint(self.root,\"\")\n",
    "        elif traversalType == \"postorder\":\n",
    "            return self.postorderPrint(self.root,\"\")\n",
    "        elif traversalType == \"levelorder\":\n",
    "            return self.levelOrderPrint(self.root,\"\")\n",
    "        else:\n",
    "            return \"traversal not supported\"\n",
    "    #Depth first search\n",
    "    def preorderPrint(self, start, traversal):\n",
    "        # Root -> leftSubTree -> rightSubTree\n",
    "        if start:\n",
    "            traversal += (str(start.val) + \"-\") #chain the output\n",
    "            traversal = self.preorderPrint(start.left,traversal)\n",
    "            traversal = self.preorderPrint(start.right,traversal)\n",
    "        return traversal\n",
    "    def inorderPrint(self,start, traversal):\n",
    "        # leftTree->Root -> rightTree\n",
    "        if start:\n",
    "            traversal = self.inorderPrint(start.left, traversal)\n",
    "            traversal += (str(start.val) + \"-\")\n",
    "            traversal = self.inorderPrint(start.right, traversal)\n",
    "        return traversal\n",
    "    \n",
    "    def postorderPrint(self,start,traversal):\n",
    "        # -> leftSubtree -> rightSubtree -> Root\n",
    "        if start:\n",
    "            traversal = self.postorderPrint(start.left, traversal)\n",
    "            traversal = self.postorderPrint(start.right, traversal)\n",
    "            traversal += (str(start.val) + \"-\")\n",
    "        return traversal\n",
    "    \n",
    "    #Breadth first search\n",
    "    def levelOrderPrint(self,start,traversal):\n",
    "        # start queue; and root as first element in queue\n",
    "        #iterative approach\n",
    "        queue = [start]\n",
    "        while queue:\n",
    "            levelLength = len(queue)\n",
    "            levelItems = []\n",
    "            for _ in range(levelLength):\n",
    "                currentNode = queue.pop(0)\n",
    "                traversal += (str(currentNode.val) + \"-\")\n",
    "                if currentNode.left:\n",
    "                    queue.append(currentNode.left)\n",
    "                if currentNode.right:\n",
    "                    queue.append(currentNode.right)\n",
    "        return traversal\n",
    "    \n",
    "    def levelOrderExplore(self,root,traversal):\n",
    "        pass\n",
    "#         queue = [root]\n",
    "#         while queue:\n",
    "#             levelLen = len(queue)\n",
    "#             levelItems = []\n",
    "#             for _ in range(levelLen):\n",
    "#                 currentNode = queue.pop(0) # pop left\n",
    "#                 if currentNode:\n",
    "#                     print(\"CurrentNode value is: \"+ currentNode.val)\n",
    "#                     if currentNode.left:\n",
    "#                         print(\"CurrentNode.left exist.Adding currentNode.left to queue\")\n",
    "#                         queue.append(currentNode.left)\n",
    "#                     if currentNode.right:\n",
    "#                         print(\"CurrentNOde.right exsit\")\n",
    "#                         queue.append(currentNode.right)\n",
    "#         print(\"A level completed. Starting next level\")\n",
    "#         return traversal\n",
    "        \n",
    "                    \n",
    "                \n",
    "   \n",
    "    #@returns the height of this binary tree \n",
    "    def getHeight(self, root):\n",
    "        if root is None:\n",
    "            return 0\n",
    "        \n",
    "        \n",
    "        "
   ]
  },
  {
   "cell_type": "markdown",
   "id": "7c35079a",
   "metadata": {},
   "source": [
    "## depth first search"
   ]
  },
  {
   "cell_type": "code",
   "execution_count": 82,
   "id": "cc522487",
   "metadata": {},
   "outputs": [
    {
     "name": "stdout",
     "output_type": "stream",
     "text": [
      "None\n"
     ]
    }
   ],
   "source": [
    "#       1\n",
    "#     /  \\\n",
    "#    2    3\n",
    "#   / \\  / \\ \n",
    "# 4   5 6  7\n",
    "#\n",
    "\n",
    "tree = BinaryTree(1)\n",
    "#fill in nodes\n",
    "tree.root.left = Node(2)\n",
    "tree.root.right = Node(3)\n",
    "tree.root.left.left = Node(4)\n",
    "tree.root.left.right = Node(5)\n",
    "tree.root.right.left = Node(6)\n",
    "tree.root.right.right = Node(7)\n",
    "\n",
    "\n",
    "print(tree.levelOrderExplore(tree,\"\"))"
   ]
  },
  {
   "cell_type": "markdown",
   "id": "38b71744",
   "metadata": {},
   "source": [
    "## Binary Tree Traversal\n",
    "Tree Traversal: process of visiting all the nodes in the tree exactly once\n",
    "They can be traversed by depth-first search and breadth-first search\n",
    "\n",
    "### Three different ways to travserse in depth-first search manner\n",
    "1. PreOrder\n",
    "   1. Check if the currentNode is empty\n",
    "   2. display the data part of the root (current node)\n",
    "   3. traverse the left subtree recursively calling the preOrder function\n",
    "   4. traverse the right subtree recursively calling th preOrder funstion\n",
    "2. InOrder\n",
    "3. PostOrder\n",
    "\n",
    "\n",
    "### Traversing Breadth first search\n",
    "starting from top level, process every node in that level and then move to next level (bottom level)\n"
   ]
  },
  {
   "cell_type": "markdown",
   "id": "02285f42",
   "metadata": {},
   "source": [
    "## Methods on Binary Tree\n",
    "   The ***height*** of a node in a binary tree is the largest number of edges in a path from a leaf node to a target node\n",
    "   If the target node doesnt have any other node connected to it, the height will be 0\n",
    "   The height of BT is the largest number of edges from the root to the most distant leaf node\n",
    "   It is also referenced as depth of Binary Tree\n",
    "   ### Algorithm for calculating height of Binary Tree\n",
    "  ```\n",
    "Data: root: root node of binary tree\n",
    "Result: Height of Binary tree\n",
    "Procedure BTHeight(root):\n",
    "    if root == NULL then\n",
    "        return 0\n",
    "    end\n",
    "    leftHeight = BTHeight(root.left)\n",
    "    rightHeight = BTHeight(root.right)\n",
    "    return max(leftHeight, rightHeight) + 1;\n",
    "```"
   ]
  },
  {
   "cell_type": "markdown",
   "id": "e68353fa",
   "metadata": {},
   "source": []
  },
  {
   "cell_type": "code",
   "execution_count": null,
   "id": "9c66f22d",
   "metadata": {},
   "outputs": [],
   "source": []
  }
 ],
 "metadata": {
  "kernelspec": {
   "display_name": "Python 3 (ipykernel)",
   "language": "python",
   "name": "python3"
  },
  "language_info": {
   "codemirror_mode": {
    "name": "ipython",
    "version": 3
   },
   "file_extension": ".py",
   "mimetype": "text/x-python",
   "name": "python",
   "nbconvert_exporter": "python",
   "pygments_lexer": "ipython3",
   "version": "3.9.15"
  }
 },
 "nbformat": 4,
 "nbformat_minor": 5
}
